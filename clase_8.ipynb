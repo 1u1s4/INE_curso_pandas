{
 "cells": [
  {
   "cell_type": "markdown",
   "metadata": {},
   "source": [
    "# groupby"
   ]
  },
  {
   "cell_type": "markdown",
   "metadata": {},
   "source": [
    "## Ejemplo sencillo"
   ]
  },
  {
   "cell_type": "markdown",
   "metadata": {},
   "source": [
    "Primero, importamos las librerías necesarias:"
   ]
  },
  {
   "cell_type": "code",
   "execution_count": null,
   "metadata": {},
   "outputs": [],
   "source": [
    "import pandas as pd\n",
    "import numpy as np"
   ]
  },
  {
   "cell_type": "markdown",
   "metadata": {},
   "source": [
    "Luego, creamos un DataFrame con datos ficticios:"
   ]
  },
  {
   "cell_type": "code",
   "execution_count": null,
   "metadata": {},
   "outputs": [],
   "source": [
    "datos = {'ciudad': ['Bogotá', 'Bogotá', 'Cali', 'Cali', 'Medellín', 'Medellín'], \n",
    "         'año': [2015, 2016, 2015, 2016, 2015, 2016], \n",
    "         'poblacion': [7892000, 8034000, 2289000, 2332000, 2485000, 2569000]}\n",
    "df = pd.DataFrame(data=datos)\n",
    "df"
   ]
  },
  {
   "cell_type": "markdown",
   "metadata": {},
   "source": [
    "El DataFrame tiene tres columnas: \"ciudad\", \"año\" y \"poblacion\"."
   ]
  },
  {
   "cell_type": "markdown",
   "metadata": {},
   "source": [
    "Ahora, agrupamos los datos por la columna \"ciudad\" y obtenemos la suma de la columna \"poblacion\":\n",
    "\n"
   ]
  },
  {
   "cell_type": "code",
   "execution_count": null,
   "metadata": {},
   "outputs": [],
   "source": [
    "df.groupby('ciudad')[['poblacion']].sum()"
   ]
  },
  {
   "cell_type": "markdown",
   "metadata": {},
   "source": [
    "También podemos agrupar por dos columnas, \"ciudad\" y \"año\", y obtener la media de la columna \"poblacion\":"
   ]
  },
  {
   "cell_type": "code",
   "execution_count": null,
   "metadata": {},
   "outputs": [],
   "source": [
    "df.groupby(['ciudad', 'año'])[['poblacion']].mean()"
   ]
  },
  {
   "cell_type": "markdown",
   "metadata": {},
   "source": [
    "## Ejemplos más complejos"
   ]
  },
  {
   "cell_type": "markdown",
   "metadata": {},
   "source": [
    "1. El conjunto de datos \"[U.S. Congress](https://github.com/unitedstates/congress-legislators)\" contiene información pública sobre los miembros históricos del Congreso y muestra varias capacidades fundamentales de .groupby().\n",
    "\n",
    "2. El conjunto de datos de \"[air quality](http://archive.ics.uci.edu/ml/datasets/Air+Quality)\" contiene lecturas periódicas de sensores de gas. Esto le permitirá trabajar con datos flotantes y de series de tiempo.\n",
    "\n",
    "3. El conjunto de datos de \"[news aggregator dataset](http://archive.ics.uci.edu/ml/datasets/News+Aggregator)\" contiene metadatos sobre varios cientos de miles de artículos de noticias."
   ]
  },
  {
   "cell_type": "code",
   "execution_count": null,
   "metadata": {},
   "outputs": [],
   "source": [
    "# pandas_legislators.py\n",
    "\n",
    "import pandas as pd\n",
    "\n",
    "dtypes = {\n",
    "    \"first_name\": \"category\",\n",
    "    \"gender\": \"category\",\n",
    "    \"type\": \"category\",\n",
    "    \"state\": \"category\",\n",
    "    \"party\": \"category\",\n",
    "}\n",
    "df = pd.read_csv(\n",
    "    \"db/groupby-data/legislators-historical.csv\",\n",
    "    dtype=dtypes,\n",
    "    usecols=list(dtypes) + [\"birthday\", \"last_name\"],\n",
    "    parse_dates=[\"birthday\"]\n",
    ")"
   ]
  },
  {
   "cell_type": "markdown",
   "metadata": {},
   "source": [
    "El conjunto de datos contiene los nombres y apellidos de los miembros, fecha de nacimiento, género, tipo (\"rep\" para Cámara de Representantes o \"sen\" para el Senado), estado de EE. UU. y partido político. Puede usar df.tail() para ver las últimas filas del conjunto de datos:"
   ]
  },
  {
   "cell_type": "code",
   "execution_count": null,
   "metadata": {},
   "outputs": [],
   "source": [
    "df.tail()"
   ]
  },
  {
   "cell_type": "code",
   "execution_count": null,
   "metadata": {},
   "outputs": [],
   "source": [
    "df.info()"
   ]
  },
  {
   "cell_type": "markdown",
   "metadata": {},
   "source": [
    "Usted llama a .groupby() y pasa el nombre de la columna por la que desea agrupar, que es \"state\". Luego, usa [\"last_name\"] para especificar las columnas en las que desea realizar la agregación real."
   ]
  },
  {
   "cell_type": "code",
   "execution_count": null,
   "metadata": {},
   "outputs": [],
   "source": [
    "n_by_state = df.groupby(\"state\")[\"last_name\"].count()\n",
    "n_by_state.head(10)"
   ]
  },
  {
   "cell_type": "markdown",
   "metadata": {},
   "source": [
    "Aquí hay un ejemplo de agrupación conjunta en dos columnas, que encuentra el recuento de miembros del Congreso desglosados ​​por estado y luego por género:"
   ]
  },
  {
   "cell_type": "code",
   "execution_count": null,
   "metadata": {},
   "outputs": [],
   "source": [
    "df.groupby([\"state\", \"gender\"])[\"last_name\"].count()"
   ]
  },
  {
   "cell_type": "code",
   "execution_count": null,
   "metadata": {},
   "outputs": [],
   "source": [
    "# pandas_airqual.py\n",
    "\n",
    "import pandas as pd\n",
    "\n",
    "df = pd.read_csv(\n",
    "    \"groupby-data/airqual.csv\",\n",
    "    parse_dates=[[\"Date\", \"Time\"]],\n",
    "    na_values=[-200],\n",
    "    usecols=[\"Date\", \"Time\", \"CO(GT)\", \"T\", \"RH\", \"AH\"]\n",
    ").rename(\n",
    "    columns={\n",
    "        \"CO(GT)\": \"co\",\n",
    "        \"Date_Time\": \"tstamp\",\n",
    "        \"T\": \"temp_c\",\n",
    "        \"RH\": \"rel_hum\",\n",
    "        \"AH\": \"abs_hum\",\n",
    "    }\n",
    ").set_index(\"tstamp\")"
   ]
  },
  {
   "cell_type": "code",
   "execution_count": null,
   "metadata": {},
   "outputs": [],
   "source": [
    "# pandas_news.py\n",
    "\n",
    "import pandas as pd\n",
    "\n",
    "def parse_millisecond_timestamp(ts):\n",
    "    \"\"\"Convert ms since Unix epoch to UTC datetime instance.\"\"\"\n",
    "    return pd.to_datetime(ts, unit=\"ms\")\n",
    "\n",
    "df = pd.read_csv(\n",
    "    \"groupby-data/news.csv\",\n",
    "    sep=\"\\t\",\n",
    "    header=None,\n",
    "    index_col=0,\n",
    "    names=[\"title\", \"url\", \"outlet\", \"category\", \"cluster\", \"host\", \"tstamp\"],\n",
    "    parse_dates=[\"tstamp\"],\n",
    "    date_parser=parse_millisecond_timestamp,\n",
    "    dtype={\n",
    "        \"outlet\": \"category\",\n",
    "        \"category\": \"category\",\n",
    "        \"cluster\": \"category\",\n",
    "        \"host\": \"category\",\n",
    "    },\n",
    ")"
   ]
  },
  {
   "cell_type": "markdown",
   "metadata": {},
   "source": [
    "## Volviendo a la FIFA WC"
   ]
  },
  {
   "cell_type": "code",
   "execution_count": null,
   "metadata": {},
   "outputs": [],
   "source": [
    "df = pd.read_csv('db/FIFA World Cup 1930-2022 All Match Dataset.csv', encoding_errors='replace')"
   ]
  },
  {
   "cell_type": "code",
   "execution_count": null,
   "metadata": {},
   "outputs": [],
   "source": [
    "df.iloc[762]"
   ]
  },
  {
   "cell_type": "code",
   "execution_count": 37,
   "metadata": {},
   "outputs": [
    {
     "name": "stdout",
     "output_type": "stream",
     "text": [
      "<class 'pandas.core.frame.DataFrame'>\n",
      "RangeIndex: 964 entries, 0 to 963\n",
      "Data columns (total 37 columns):\n",
      " #   Column                     Non-Null Count  Dtype \n",
      "---  ------                     --------------  ----- \n",
      " 0   Key Id                     964 non-null    int64 \n",
      " 1   Tournament Id              964 non-null    object\n",
      " 2   tournament Name            964 non-null    object\n",
      " 3   Match Id                   964 non-null    object\n",
      " 4   Match Name                 964 non-null    object\n",
      " 5   Stage Name                 964 non-null    object\n",
      " 6   Group Name                 964 non-null    object\n",
      " 7   Group Stage                964 non-null    int64 \n",
      " 8   Knockout Stage             964 non-null    int64 \n",
      " 9   Replayed                   964 non-null    int64 \n",
      " 10  Replay                     964 non-null    int64 \n",
      " 11  Match Date                 964 non-null    object\n",
      " 12  Match Time                 964 non-null    object\n",
      " 13  Stadium Id                 964 non-null    object\n",
      " 14  Stadium Name               964 non-null    object\n",
      " 15  City Name                  964 non-null    object\n",
      " 16  Country Name               964 non-null    object\n",
      " 17  Home Team Id               964 non-null    object\n",
      " 18  Home Team Name             964 non-null    object\n",
      " 19  Home Team Code             964 non-null    object\n",
      " 20  Away Team Id               964 non-null    object\n",
      " 21  Away Team Name             964 non-null    object\n",
      " 22  Away Team Code             964 non-null    object\n",
      " 23  Score                      964 non-null    object\n",
      " 24  Home Team Score            964 non-null    int64 \n",
      " 25  Away Team Score            964 non-null    int64 \n",
      " 26  Home Team Score Margin     964 non-null    int64 \n",
      " 27  Away Team Score Margin     964 non-null    int64 \n",
      " 28  Extra Time                 964 non-null    int64 \n",
      " 29  Penalty Shootout           964 non-null    int64 \n",
      " 30  Score Penalties            964 non-null    object\n",
      " 31  Home Team Score Penalties  964 non-null    int64 \n",
      " 32  Away Team Score Penalties  964 non-null    int64 \n",
      " 33  Result                     964 non-null    object\n",
      " 34  Home Team Win              964 non-null    int64 \n",
      " 35  Away Team Win              964 non-null    int64 \n",
      " 36  Draw                       964 non-null    int64 \n",
      "dtypes: int64(16), object(21)\n",
      "memory usage: 278.8+ KB\n"
     ]
    }
   ],
   "source": [
    "df.info()"
   ]
  },
  {
   "cell_type": "code",
   "execution_count": null,
   "metadata": {},
   "outputs": [],
   "source": []
  }
 ],
 "metadata": {
  "kernelspec": {
   "display_name": "Python 3.11.2 64-bit",
   "language": "python",
   "name": "python3"
  },
  "language_info": {
   "codemirror_mode": {
    "name": "ipython",
    "version": 3
   },
   "file_extension": ".py",
   "mimetype": "text/x-python",
   "name": "python",
   "nbconvert_exporter": "python",
   "pygments_lexer": "ipython3",
   "version": "3.11.2"
  },
  "orig_nbformat": 4,
  "vscode": {
   "interpreter": {
    "hash": "aee8b7b246df8f9039afb4144a1f6fd8d2ca17a180786b69acc140d282b71a49"
   }
  }
 },
 "nbformat": 4,
 "nbformat_minor": 2
}
