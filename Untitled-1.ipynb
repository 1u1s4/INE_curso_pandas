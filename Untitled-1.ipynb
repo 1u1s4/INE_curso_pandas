{
 "cells": [
  {
   "cell_type": "code",
   "execution_count": 1,
   "metadata": {},
   "outputs": [],
   "source": [
    "import pandas as pd\n",
    "df = pd.read_feather('12_million_plus_company_data.feather')"
   ]
  },
  {
   "cell_type": "code",
   "execution_count": 10,
   "metadata": {},
   "outputs": [
    {
     "data": {
      "text/html": [
       "<div>\n",
       "<style scoped>\n",
       "    .dataframe tbody tr th:only-of-type {\n",
       "        vertical-align: middle;\n",
       "    }\n",
       "\n",
       "    .dataframe tbody tr th {\n",
       "        vertical-align: top;\n",
       "    }\n",
       "\n",
       "    .dataframe thead th {\n",
       "        text-align: right;\n",
       "    }\n",
       "</style>\n",
       "<table border=\"1\" class=\"dataframe\">\n",
       "  <thead>\n",
       "    <tr style=\"text-align: right;\">\n",
       "      <th></th>\n",
       "      <th>name</th>\n",
       "      <th>website</th>\n",
       "      <th>industry</th>\n",
       "      <th>size_range</th>\n",
       "      <th>current_employee_estimate</th>\n",
       "      <th>total_employee_estimate</th>\n",
       "      <th>country</th>\n",
       "      <th>locality</th>\n",
       "      <th>region</th>\n",
       "      <th>year_founded</th>\n",
       "      <th>linkedin_url</th>\n",
       "    </tr>\n",
       "  </thead>\n",
       "  <tbody>\n",
       "    <tr>\n",
       "      <th>0</th>\n",
       "      <td>ibm</td>\n",
       "      <td>ibm.com</td>\n",
       "      <td>information technology and services</td>\n",
       "      <td>10001+</td>\n",
       "      <td>274047.0</td>\n",
       "      <td>716906.0</td>\n",
       "      <td>united states</td>\n",
       "      <td>new york</td>\n",
       "      <td>new york</td>\n",
       "      <td>1911.0</td>\n",
       "      <td>linkedin.com/company/ibm</td>\n",
       "    </tr>\n",
       "    <tr>\n",
       "      <th>1</th>\n",
       "      <td>tata consultancy services</td>\n",
       "      <td>tcs.com</td>\n",
       "      <td>information technology and services</td>\n",
       "      <td>10001+</td>\n",
       "      <td>190771.0</td>\n",
       "      <td>341369.0</td>\n",
       "      <td>india</td>\n",
       "      <td>bombay</td>\n",
       "      <td>maharashtra</td>\n",
       "      <td>1968.0</td>\n",
       "      <td>linkedin.com/company/tata-consultancy-services</td>\n",
       "    </tr>\n",
       "    <tr>\n",
       "      <th>2</th>\n",
       "      <td>accenture</td>\n",
       "      <td>accenture.com</td>\n",
       "      <td>information technology and services</td>\n",
       "      <td>10001+</td>\n",
       "      <td>190689.0</td>\n",
       "      <td>455768.0</td>\n",
       "      <td>ireland</td>\n",
       "      <td>dublin</td>\n",
       "      <td>dublin</td>\n",
       "      <td>1989.0</td>\n",
       "      <td>linkedin.com/company/accenture</td>\n",
       "    </tr>\n",
       "    <tr>\n",
       "      <th>3</th>\n",
       "      <td>us army</td>\n",
       "      <td>goarmy.com</td>\n",
       "      <td>military</td>\n",
       "      <td>10001+</td>\n",
       "      <td>162163.0</td>\n",
       "      <td>445958.0</td>\n",
       "      <td>united states</td>\n",
       "      <td>alexandria</td>\n",
       "      <td>virginia</td>\n",
       "      <td>1800.0</td>\n",
       "      <td>linkedin.com/company/us-army</td>\n",
       "    </tr>\n",
       "    <tr>\n",
       "      <th>4</th>\n",
       "      <td>ey</td>\n",
       "      <td>ey.com</td>\n",
       "      <td>accounting</td>\n",
       "      <td>10001+</td>\n",
       "      <td>158363.0</td>\n",
       "      <td>428960.0</td>\n",
       "      <td>united kingdom</td>\n",
       "      <td>london</td>\n",
       "      <td>greater london</td>\n",
       "      <td>1989.0</td>\n",
       "      <td>linkedin.com/company/ernstandyoung</td>\n",
       "    </tr>\n",
       "  </tbody>\n",
       "</table>\n",
       "</div>"
      ],
      "text/plain": [
       "                        name        website  \\\n",
       "0                        ibm        ibm.com   \n",
       "1  tata consultancy services        tcs.com   \n",
       "2                  accenture  accenture.com   \n",
       "3                    us army     goarmy.com   \n",
       "4                         ey         ey.com   \n",
       "\n",
       "                              industry size_range  current_employee_estimate  \\\n",
       "0  information technology and services     10001+                   274047.0   \n",
       "1  information technology and services     10001+                   190771.0   \n",
       "2  information technology and services     10001+                   190689.0   \n",
       "3                             military     10001+                   162163.0   \n",
       "4                           accounting     10001+                   158363.0   \n",
       "\n",
       "   total_employee_estimate         country    locality          region  \\\n",
       "0                 716906.0   united states    new york        new york   \n",
       "1                 341369.0           india      bombay     maharashtra   \n",
       "2                 455768.0         ireland      dublin          dublin   \n",
       "3                 445958.0   united states  alexandria        virginia   \n",
       "4                 428960.0  united kingdom      london  greater london   \n",
       "\n",
       "   year_founded                                    linkedin_url  \n",
       "0        1911.0                        linkedin.com/company/ibm  \n",
       "1        1968.0  linkedin.com/company/tata-consultancy-services  \n",
       "2        1989.0                  linkedin.com/company/accenture  \n",
       "3        1800.0                    linkedin.com/company/us-army  \n",
       "4        1989.0              linkedin.com/company/ernstandyoung  "
      ]
     },
     "execution_count": 10,
     "metadata": {},
     "output_type": "execute_result"
    }
   ],
   "source": [
    "df.head()"
   ]
  },
  {
   "cell_type": "code",
   "execution_count": 13,
   "metadata": {},
   "outputs": [
    {
     "data": {
      "text/plain": [
       "3725697"
      ]
     },
     "execution_count": 13,
     "metadata": {},
     "output_type": "execute_result"
    }
   ],
   "source": [
    "df.query('country==\"united states\"').shape[0]"
   ]
  },
  {
   "cell_type": "code",
   "execution_count": null,
   "metadata": {},
   "outputs": [],
   "source": []
  }
 ],
 "metadata": {
  "kernelspec": {
   "display_name": "Python 3.11.2 64-bit",
   "language": "python",
   "name": "python3"
  },
  "language_info": {
   "codemirror_mode": {
    "name": "ipython",
    "version": 3
   },
   "file_extension": ".py",
   "mimetype": "text/x-python",
   "name": "python",
   "nbconvert_exporter": "python",
   "pygments_lexer": "ipython3",
   "version": "3.11.2"
  },
  "orig_nbformat": 4,
  "vscode": {
   "interpreter": {
    "hash": "1a1af0ee75eeea9e2e1ee996c87e7a2b11a0bebd85af04bb136d915cefc0abce"
   }
  }
 },
 "nbformat": 4,
 "nbformat_minor": 2
}
