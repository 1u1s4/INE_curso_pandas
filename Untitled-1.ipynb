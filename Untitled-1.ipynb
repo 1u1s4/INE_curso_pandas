{
 "cells": [
  {
   "cell_type": "code",
   "execution_count": null,
   "metadata": {},
   "outputs": [],
   "source": [
    "import numpy as np\n",
    "import pandas as pd"
   ]
  },
  {
   "cell_type": "code",
   "execution_count": null,
   "metadata": {},
   "outputs": [],
   "source": [
    "df = pd.read_csv(\"sales_data_types.csv\")\n",
    "#df.info()"
   ]
  },
  {
   "cell_type": "code",
   "execution_count": null,
   "metadata": {},
   "outputs": [],
   "source": [
    "df = df.astype({\n",
    "    'Customer Number':\"int32\",\n",
    "    'Jan Units':\"int16\",\n",
    "    \"Month\":\"int8\",\n",
    "    'Day':\"int8\",\n",
    "    'Year':\"int16\",\n",
    "    'Active':\"bool\"\n",
    "})\n",
    "df.info()"
   ]
  },
  {
   "cell_type": "code",
   "execution_count": null,
   "metadata": {},
   "outputs": [],
   "source": [
    "def convert_currency(val):\n",
    "    \"\"\"\n",
    "    Convert the string number value to a float\n",
    "     - Remove $\n",
    "     - Remove commas\n",
    "     - Convert to float type\n",
    "    \"\"\"\n",
    "    new_val = val.replace(',','').replace('$', '')\n",
    "    return float(new_val)"
   ]
  },
  {
   "cell_type": "code",
   "execution_count": null,
   "metadata": {},
   "outputs": [],
   "source": [
    "df['2016'].apply(convert_currency)"
   ]
  },
  {
   "cell_type": "code",
   "execution_count": null,
   "metadata": {},
   "outputs": [],
   "source": [
    "df['2016'].apply(lambda x: x.replace('$', '').replace(',', '')).astype('float')"
   ]
  },
  {
   "cell_type": "code",
   "execution_count": null,
   "metadata": {},
   "outputs": [],
   "source": [
    "df['Percent Growth'].apply(lambda x: x.replace('%', '')).astype('float') / 100"
   ]
  },
  {
   "cell_type": "code",
   "execution_count": null,
   "metadata": {},
   "outputs": [],
   "source": [
    "def convert_percent(val):\n",
    "    \"\"\"\n",
    "    Convert the percentage string to an actual floating point percent\n",
    "    - Remove %\n",
    "    - Divide by 100 to make decimal\n",
    "    \"\"\"\n",
    "    new_val = val.replace('%', '')\n",
    "    return float(new_val) / 100\n",
    "\n",
    "df['Percent Growth'].apply(convert_percent)"
   ]
  },
  {
   "cell_type": "code",
   "execution_count": null,
   "metadata": {},
   "outputs": [],
   "source": [
    "np.where(df[\"Active\"] == \"Y\", True, False)"
   ]
  },
  {
   "cell_type": "code",
   "execution_count": null,
   "metadata": {},
   "outputs": [],
   "source": [
    "pd.to_numeric(df['Jan Units'], errors='coerce')"
   ]
  },
  {
   "cell_type": "code",
   "execution_count": null,
   "metadata": {},
   "outputs": [],
   "source": [
    "df[\"Customer Name\"].astype(\"string\").memory_usage()"
   ]
  },
  {
   "cell_type": "code",
   "execution_count": null,
   "metadata": {},
   "outputs": [],
   "source": [
    "df[\"Customer Name\"].memory_usage()"
   ]
  },
  {
   "cell_type": "code",
   "execution_count": null,
   "metadata": {},
   "outputs": [],
   "source": [
    "df_2 = pd.read_csv(\"sales_data_types.csv\",\n",
    "                   dtype={'Customer Number': 'int'},\n",
    "                   converters={'2016': convert_currency,\n",
    "                               '2017': convert_currency,\n",
    "                               'Percent Growth': convert_percent,\n",
    "                               'Jan Units': lambda x: pd.to_numeric(x, errors='coerce'),\n",
    "                               'Active': lambda x: np.where(x == \"Y\", True, False)\n",
    "                              })\n",
    "\n",
    "df_2.dtypes"
   ]
  },
  {
   "cell_type": "code",
   "execution_count": null,
   "metadata": {},
   "outputs": [],
   "source": [
    "df_2"
   ]
  },
  {
   "cell_type": "code",
   "execution_count": null,
   "metadata": {},
   "outputs": [],
   "source": [
    "df = pd.read_excel('db_ipc.xls', index_col='Código')\n",
    "df"
   ]
  },
  {
   "cell_type": "code",
   "execution_count": null,
   "metadata": {},
   "outputs": [],
   "source": [
    "df.loc[111101, [False,False,False,False,False,False,True,True,True,True,True,True]]"
   ]
  },
  {
   "cell_type": "code",
   "execution_count": null,
   "metadata": {},
   "outputs": [],
   "source": [
    "df.loc[df['Rep.']>150, ['Descripción']] = 'a'"
   ]
  },
  {
   "cell_type": "code",
   "execution_count": null,
   "metadata": {},
   "outputs": [],
   "source": [
    "df"
   ]
  },
  {
   "cell_type": "code",
   "execution_count": null,
   "metadata": {},
   "outputs": [],
   "source": [
    "df = pd.read_csv('data_population_world.csv')\n",
    "df"
   ]
  },
  {
   "cell_type": "code",
   "execution_count": null,
   "metadata": {},
   "outputs": [],
   "source": [
    "import matplotlib.pyplot as plt\n",
    "# Graficar la gráfica de caja\n",
    "fig, ax = plt.subplots()\n",
    "ax.boxplot(df.loc[111101, [False,False,False,False,False,False,True,True,True,True,True,True]], showfliers=True)\n",
    "# Establecer las etiquetas de los ejes y el título\n",
    "ax.set_xlabel('Grupo')\n",
    "ax.set_ylabel('Valor')\n",
    "ax.set_title('Gráfica de caja de ejemplo')\n",
    "\n",
    "# Mostrar la gráfica\n",
    "plt.show()"
   ]
  },
  {
   "cell_type": "code",
   "execution_count": null,
   "metadata": {},
   "outputs": [],
   "source": [
    "import pandas as pd"
   ]
  },
  {
   "cell_type": "code",
   "execution_count": null,
   "metadata": {},
   "outputs": [],
   "source": [
    "df = pd.read_csv(\"db/movies.csv\")"
   ]
  },
  {
   "cell_type": "code",
   "execution_count": null,
   "metadata": {},
   "outputs": [],
   "source": [
    "df.head()"
   ]
  },
  {
   "cell_type": "code",
   "execution_count": null,
   "metadata": {},
   "outputs": [],
   "source": [
    "df[\"vote_count\"].describe()"
   ]
  },
  {
   "cell_type": "code",
   "execution_count": null,
   "metadata": {},
   "outputs": [],
   "source": [
    "import pandas as pd"
   ]
  },
  {
   "cell_type": "code",
   "execution_count": null,
   "metadata": {},
   "outputs": [],
   "source": [
    "df = pd.read_csv('db/data_population_world.csv')"
   ]
  },
  {
   "cell_type": "code",
   "execution_count": null,
   "metadata": {},
   "outputs": [],
   "source": [
    "df.columns"
   ]
  },
  {
   "cell_type": "code",
   "execution_count": null,
   "metadata": {},
   "outputs": [],
   "source": [
    "df = df.drop('Unnamed: 66', axis=1)"
   ]
  },
  {
   "cell_type": "code",
   "execution_count": null,
   "metadata": {},
   "outputs": [],
   "source": [
    "df.info()"
   ]
  },
  {
   "cell_type": "code",
   "execution_count": null,
   "metadata": {},
   "outputs": [],
   "source": [
    "from random import randint\n",
    "nuevos_datos = []\n",
    "for i in range(266):\n",
    "    nuevos_datos.append(randint(10**2, 10**7))\n",
    "df['2022'] = nuevos_datos"
   ]
  },
  {
   "cell_type": "code",
   "execution_count": null,
   "metadata": {},
   "outputs": [],
   "source": [
    "df['Country Name']"
   ]
  },
  {
   "cell_type": "code",
   "execution_count": null,
   "metadata": {},
   "outputs": [],
   "source": [
    "import pandas as pd"
   ]
  },
  {
   "cell_type": "code",
   "execution_count": null,
   "metadata": {},
   "outputs": [],
   "source": [
    "df = pd.read_csv('db/NetFlix.csv')\n",
    "df['date_added'] = pd.to_datetime(df['date_added'])"
   ]
  },
  {
   "cell_type": "code",
   "execution_count": null,
   "metadata": {},
   "outputs": [],
   "source": [
    "df.info()"
   ]
  },
  {
   "cell_type": "code",
   "execution_count": null,
   "metadata": {},
   "outputs": [],
   "source": [
    "df['duracion_min'] = df['duration']*60"
   ]
  },
  {
   "cell_type": "code",
   "execution_count": null,
   "metadata": {},
   "outputs": [],
   "source": [
    "df = df.drop('show_id', axis=1)"
   ]
  },
  {
   "cell_type": "code",
   "execution_count": null,
   "metadata": {},
   "outputs": [],
   "source": [
    "df.columns"
   ]
  },
  {
   "cell_type": "code",
   "execution_count": null,
   "metadata": {},
   "outputs": [],
   "source": [
    "import pandas as pd\n",
    "df = pd.read_csv('db/NetFlix.csv')\n",
    "df.head()"
   ]
  },
  {
   "cell_type": "code",
   "execution_count": null,
   "metadata": {},
   "outputs": [],
   "source": [
    "# Using plotly.express\n",
    "import plotly.express as px\n",
    "\n",
    "df = px.data.stocks()\n",
    "fig = px.box(df, x='date', y=\"GOOG\")\n",
    "fig.show()"
   ]
  },
  {
   "cell_type": "code",
   "execution_count": null,
   "metadata": {},
   "outputs": [],
   "source": [
    "df = pd.read_csv('db/data_population_world.csv')\n",
    "df = df.drop('Unnamed: 66', axis=1)"
   ]
  },
  {
   "cell_type": "code",
   "execution_count": null,
   "metadata": {},
   "outputs": [],
   "source": [
    "df.head()"
   ]
  },
  {
   "cell_type": "code",
   "execution_count": null,
   "metadata": {},
   "outputs": [],
   "source": [
    "df[df.Country_Name == \"Guatemala\"]"
   ]
  },
  {
   "cell_type": "code",
   "execution_count": null,
   "metadata": {},
   "outputs": [],
   "source": [
    "df = pd.read_csv('db/poblacion-mundial.csv', index_col='Entity')"
   ]
  },
  {
   "cell_type": "code",
   "execution_count": null,
   "metadata": {},
   "outputs": [],
   "source": [
    "df.columns"
   ]
  },
  {
   "cell_type": "code",
   "execution_count": null,
   "metadata": {},
   "outputs": [],
   "source": [
    "x=df.iloc[['Guatemala', 'Honduras'], 1:]\n",
    "df_1 = pd.DataFrame(x).reset_index().rename(columns={'index':'Anio'})\n",
    "df_1"
   ]
  },
  {
   "cell_type": "code",
   "execution_count": null,
   "metadata": {},
   "outputs": [],
   "source": [
    "# Using plotly.express\n",
    "import plotly.express as px\n",
    "\n",
    "fig = px.line(df_1, x='Anio', y=\"Guatemala\")\n",
    "fig.show()"
   ]
  },
  {
   "cell_type": "code",
   "execution_count": 1,
   "metadata": {},
   "outputs": [],
   "source": [
    "import pandas as pd"
   ]
  },
  {
   "cell_type": "code",
   "execution_count": 23,
   "metadata": {},
   "outputs": [
    {
     "name": "stdout",
     "output_type": "stream",
     "text": [
      "<class 'pandas.core.frame.DataFrame'>\n",
      "RangeIndex: 359303 entries, 0 to 359302\n",
      "Data columns (total 5 columns):\n",
      " #   Column  Non-Null Count   Dtype  \n",
      "---  ------  --------------   -----  \n",
      " 0   RegCod  359303 non-null  int64  \n",
      " 1   PerAno  359303 non-null  int64  \n",
      " 2   PerMes  359303 non-null  int64  \n",
      " 3   GbaInd  359303 non-null  float64\n",
      " 4   GbaNom  359303 non-null  object \n",
      "dtypes: float64(1), int64(3), object(1)\n",
      "memory usage: 13.7+ MB\n"
     ]
    }
   ],
   "source": [
    "df = pd.read_csv('db/serie_gba.csv')\n",
    "df.info()"
   ]
  },
  {
   "cell_type": "code",
   "execution_count": 55,
   "metadata": {},
   "outputs": [
    {
     "ename": "UFuncTypeError",
     "evalue": "ufunc 'add' did not contain a loop with signature matching types (dtype('int8'), dtype('<U1')) -> None",
     "output_type": "error",
     "traceback": [
      "\u001b[1;31m---------------------------------------------------------------------------\u001b[0m",
      "\u001b[1;31mUFuncTypeError\u001b[0m                            Traceback (most recent call last)",
      "Cell \u001b[1;32mIn[55], line 10\u001b[0m\n\u001b[0;32m      1\u001b[0m df2 \u001b[39m=\u001b[39m pd\u001b[39m.\u001b[39mread_csv(\n\u001b[0;32m      2\u001b[0m     \u001b[39m'\u001b[39m\u001b[39mdb/serie_gba.csv\u001b[39m\u001b[39m'\u001b[39m,\n\u001b[0;32m      3\u001b[0m     dtype\u001b[39m=\u001b[39m{\n\u001b[1;32m   (...)\u001b[0m\n\u001b[0;32m      8\u001b[0m     converters\u001b[39m=\u001b[39m{\u001b[39m\"\u001b[39m\u001b[39mGbaNom\u001b[39m\u001b[39m\"\u001b[39m:\u001b[39mstr\u001b[39m\u001b[39m.\u001b[39mstrip}\n\u001b[0;32m      9\u001b[0m )\n\u001b[1;32m---> 10\u001b[0m df2[\u001b[39m\"\u001b[39m\u001b[39mFecha\u001b[39m\u001b[39m\"\u001b[39m] \u001b[39m=\u001b[39m pd\u001b[39m.\u001b[39mto_datetime(df2[\u001b[39m\"\u001b[39;49m\u001b[39mPerMes\u001b[39;49m\u001b[39m\"\u001b[39;49m] \u001b[39m+\u001b[39;49m \u001b[39m\"\u001b[39;49m\u001b[39m-\u001b[39;49m\u001b[39m\"\u001b[39;49m \u001b[39m+\u001b[39m df2[\u001b[39m\"\u001b[39m\u001b[39mPerAno\u001b[39m\u001b[39m\"\u001b[39m])\n\u001b[0;32m     11\u001b[0m df2\u001b[39m.\u001b[39minfo()\n",
      "File \u001b[1;32mc:\\Users\\laalvarado\\Documents\\GitHub\\INE_curso_pandas\\.venv\\Lib\\site-packages\\pandas\\core\\ops\\common.py:72\u001b[0m, in \u001b[0;36m_unpack_zerodim_and_defer.<locals>.new_method\u001b[1;34m(self, other)\u001b[0m\n\u001b[0;32m     68\u001b[0m             \u001b[39mreturn\u001b[39;00m \u001b[39mNotImplemented\u001b[39m\n\u001b[0;32m     70\u001b[0m other \u001b[39m=\u001b[39m item_from_zerodim(other)\n\u001b[1;32m---> 72\u001b[0m \u001b[39mreturn\u001b[39;00m method(\u001b[39mself\u001b[39;49m, other)\n",
      "File \u001b[1;32mc:\\Users\\laalvarado\\Documents\\GitHub\\INE_curso_pandas\\.venv\\Lib\\site-packages\\pandas\\core\\arraylike.py:102\u001b[0m, in \u001b[0;36mOpsMixin.__add__\u001b[1;34m(self, other)\u001b[0m\n\u001b[0;32m    100\u001b[0m \u001b[39m@unpack_zerodim_and_defer\u001b[39m(\u001b[39m\"\u001b[39m\u001b[39m__add__\u001b[39m\u001b[39m\"\u001b[39m)\n\u001b[0;32m    101\u001b[0m \u001b[39mdef\u001b[39;00m \u001b[39m__add__\u001b[39m(\u001b[39mself\u001b[39m, other):\n\u001b[1;32m--> 102\u001b[0m     \u001b[39mreturn\u001b[39;00m \u001b[39mself\u001b[39;49m\u001b[39m.\u001b[39;49m_arith_method(other, operator\u001b[39m.\u001b[39;49madd)\n",
      "File \u001b[1;32mc:\\Users\\laalvarado\\Documents\\GitHub\\INE_curso_pandas\\.venv\\Lib\\site-packages\\pandas\\core\\series.py:6259\u001b[0m, in \u001b[0;36mSeries._arith_method\u001b[1;34m(self, other, op)\u001b[0m\n\u001b[0;32m   6257\u001b[0m \u001b[39mdef\u001b[39;00m \u001b[39m_arith_method\u001b[39m(\u001b[39mself\u001b[39m, other, op):\n\u001b[0;32m   6258\u001b[0m     \u001b[39mself\u001b[39m, other \u001b[39m=\u001b[39m ops\u001b[39m.\u001b[39malign_method_SERIES(\u001b[39mself\u001b[39m, other)\n\u001b[1;32m-> 6259\u001b[0m     \u001b[39mreturn\u001b[39;00m base\u001b[39m.\u001b[39;49mIndexOpsMixin\u001b[39m.\u001b[39;49m_arith_method(\u001b[39mself\u001b[39;49m, other, op)\n",
      "File \u001b[1;32mc:\\Users\\laalvarado\\Documents\\GitHub\\INE_curso_pandas\\.venv\\Lib\\site-packages\\pandas\\core\\base.py:1325\u001b[0m, in \u001b[0;36mIndexOpsMixin._arith_method\u001b[1;34m(self, other, op)\u001b[0m\n\u001b[0;32m   1322\u001b[0m rvalues \u001b[39m=\u001b[39m ensure_wrapped_if_datetimelike(rvalues)\n\u001b[0;32m   1324\u001b[0m \u001b[39mwith\u001b[39;00m np\u001b[39m.\u001b[39merrstate(\u001b[39mall\u001b[39m\u001b[39m=\u001b[39m\u001b[39m\"\u001b[39m\u001b[39mignore\u001b[39m\u001b[39m\"\u001b[39m):\n\u001b[1;32m-> 1325\u001b[0m     result \u001b[39m=\u001b[39m ops\u001b[39m.\u001b[39;49marithmetic_op(lvalues, rvalues, op)\n\u001b[0;32m   1327\u001b[0m \u001b[39mreturn\u001b[39;00m \u001b[39mself\u001b[39m\u001b[39m.\u001b[39m_construct_result(result, name\u001b[39m=\u001b[39mres_name)\n",
      "File \u001b[1;32mc:\\Users\\laalvarado\\Documents\\GitHub\\INE_curso_pandas\\.venv\\Lib\\site-packages\\pandas\\core\\ops\\array_ops.py:226\u001b[0m, in \u001b[0;36marithmetic_op\u001b[1;34m(left, right, op)\u001b[0m\n\u001b[0;32m    222\u001b[0m     _bool_arith_check(op, left, right)\n\u001b[0;32m    224\u001b[0m     \u001b[39m# error: Argument 1 to \"_na_arithmetic_op\" has incompatible type\u001b[39;00m\n\u001b[0;32m    225\u001b[0m     \u001b[39m# \"Union[ExtensionArray, ndarray[Any, Any]]\"; expected \"ndarray[Any, Any]\"\u001b[39;00m\n\u001b[1;32m--> 226\u001b[0m     res_values \u001b[39m=\u001b[39m _na_arithmetic_op(left, right, op)  \u001b[39m# type: ignore[arg-type]\u001b[39;00m\n\u001b[0;32m    228\u001b[0m \u001b[39mreturn\u001b[39;00m res_values\n",
      "File \u001b[1;32mc:\\Users\\laalvarado\\Documents\\GitHub\\INE_curso_pandas\\.venv\\Lib\\site-packages\\pandas\\core\\ops\\array_ops.py:165\u001b[0m, in \u001b[0;36m_na_arithmetic_op\u001b[1;34m(left, right, op, is_cmp)\u001b[0m\n\u001b[0;32m    162\u001b[0m     func \u001b[39m=\u001b[39m partial(expressions\u001b[39m.\u001b[39mevaluate, op)\n\u001b[0;32m    164\u001b[0m \u001b[39mtry\u001b[39;00m:\n\u001b[1;32m--> 165\u001b[0m     result \u001b[39m=\u001b[39m func(left, right)\n\u001b[0;32m    166\u001b[0m \u001b[39mexcept\u001b[39;00m \u001b[39mTypeError\u001b[39;00m:\n\u001b[0;32m    167\u001b[0m     \u001b[39mif\u001b[39;00m \u001b[39mnot\u001b[39;00m is_cmp \u001b[39mand\u001b[39;00m (is_object_dtype(left\u001b[39m.\u001b[39mdtype) \u001b[39mor\u001b[39;00m is_object_dtype(right)):\n\u001b[0;32m    168\u001b[0m         \u001b[39m# For object dtype, fallback to a masked operation (only operating\u001b[39;00m\n\u001b[0;32m    169\u001b[0m         \u001b[39m#  on the non-missing values)\u001b[39;00m\n\u001b[0;32m    170\u001b[0m         \u001b[39m# Don't do this for comparisons, as that will handle complex numbers\u001b[39;00m\n\u001b[0;32m    171\u001b[0m         \u001b[39m#  incorrectly, see GH#32047\u001b[39;00m\n",
      "\u001b[1;31mUFuncTypeError\u001b[0m: ufunc 'add' did not contain a loop with signature matching types (dtype('int8'), dtype('<U1')) -> None"
     ]
    }
   ],
   "source": [
    "df2 = pd.read_csv(\n",
    "    'db/serie_gba.csv',\n",
    "    dtype={\n",
    "        \"RegCod\":\"int8\",\n",
    "        \"PerAno\":\"int16\",\n",
    "        \"PerMes\":\"int8\"\n",
    "    },\n",
    "    converters={\"GbaNom\":str.strip}\n",
    ")\n",
    "df2[\"Fecha\"] = pd.to_datetime(df2[[\"PerMes\", \"PerAno\"]])\n",
    "df2.info()"
   ]
  },
  {
   "cell_type": "code",
   "execution_count": 57,
   "metadata": {},
   "outputs": [
    {
     "ename": "KeyError",
     "evalue": "\"['Fecha'] not in index\"",
     "output_type": "error",
     "traceback": [
      "\u001b[1;31m---------------------------------------------------------------------------\u001b[0m",
      "\u001b[1;31mKeyError\u001b[0m                                  Traceback (most recent call last)",
      "Cell \u001b[1;32mIn[57], line 1\u001b[0m\n\u001b[1;32m----> 1\u001b[0m df_aux \u001b[39m=\u001b[39m df2\u001b[39m.\u001b[39;49mquery(\u001b[39m'\u001b[39;49m\u001b[39mRegCod==0 and GbaNom==\u001b[39;49m\u001b[39m\"\u001b[39;49m\u001b[39mGALLETAS\u001b[39;49m\u001b[39m\"\u001b[39;49m\u001b[39m'\u001b[39;49m)[[\u001b[39m\"\u001b[39;49m\u001b[39mGbaInd\u001b[39;49m\u001b[39m\"\u001b[39;49m, \u001b[39m\"\u001b[39;49m\u001b[39mFecha\u001b[39;49m\u001b[39m\"\u001b[39;49m]]\n\u001b[0;32m      2\u001b[0m df_aux\n",
      "File \u001b[1;32mc:\\Users\\laalvarado\\Documents\\GitHub\\INE_curso_pandas\\.venv\\Lib\\site-packages\\pandas\\core\\frame.py:3813\u001b[0m, in \u001b[0;36mDataFrame.__getitem__\u001b[1;34m(self, key)\u001b[0m\n\u001b[0;32m   3811\u001b[0m     \u001b[39mif\u001b[39;00m is_iterator(key):\n\u001b[0;32m   3812\u001b[0m         key \u001b[39m=\u001b[39m \u001b[39mlist\u001b[39m(key)\n\u001b[1;32m-> 3813\u001b[0m     indexer \u001b[39m=\u001b[39m \u001b[39mself\u001b[39;49m\u001b[39m.\u001b[39;49mcolumns\u001b[39m.\u001b[39;49m_get_indexer_strict(key, \u001b[39m\"\u001b[39;49m\u001b[39mcolumns\u001b[39;49m\u001b[39m\"\u001b[39;49m)[\u001b[39m1\u001b[39m]\n\u001b[0;32m   3815\u001b[0m \u001b[39m# take() does not accept boolean indexers\u001b[39;00m\n\u001b[0;32m   3816\u001b[0m \u001b[39mif\u001b[39;00m \u001b[39mgetattr\u001b[39m(indexer, \u001b[39m\"\u001b[39m\u001b[39mdtype\u001b[39m\u001b[39m\"\u001b[39m, \u001b[39mNone\u001b[39;00m) \u001b[39m==\u001b[39m \u001b[39mbool\u001b[39m:\n",
      "File \u001b[1;32mc:\\Users\\laalvarado\\Documents\\GitHub\\INE_curso_pandas\\.venv\\Lib\\site-packages\\pandas\\core\\indexes\\base.py:6070\u001b[0m, in \u001b[0;36mIndex._get_indexer_strict\u001b[1;34m(self, key, axis_name)\u001b[0m\n\u001b[0;32m   6067\u001b[0m \u001b[39melse\u001b[39;00m:\n\u001b[0;32m   6068\u001b[0m     keyarr, indexer, new_indexer \u001b[39m=\u001b[39m \u001b[39mself\u001b[39m\u001b[39m.\u001b[39m_reindex_non_unique(keyarr)\n\u001b[1;32m-> 6070\u001b[0m \u001b[39mself\u001b[39;49m\u001b[39m.\u001b[39;49m_raise_if_missing(keyarr, indexer, axis_name)\n\u001b[0;32m   6072\u001b[0m keyarr \u001b[39m=\u001b[39m \u001b[39mself\u001b[39m\u001b[39m.\u001b[39mtake(indexer)\n\u001b[0;32m   6073\u001b[0m \u001b[39mif\u001b[39;00m \u001b[39misinstance\u001b[39m(key, Index):\n\u001b[0;32m   6074\u001b[0m     \u001b[39m# GH 42790 - Preserve name from an Index\u001b[39;00m\n",
      "File \u001b[1;32mc:\\Users\\laalvarado\\Documents\\GitHub\\INE_curso_pandas\\.venv\\Lib\\site-packages\\pandas\\core\\indexes\\base.py:6133\u001b[0m, in \u001b[0;36mIndex._raise_if_missing\u001b[1;34m(self, key, indexer, axis_name)\u001b[0m\n\u001b[0;32m   6130\u001b[0m     \u001b[39mraise\u001b[39;00m \u001b[39mKeyError\u001b[39;00m(\u001b[39mf\u001b[39m\u001b[39m\"\u001b[39m\u001b[39mNone of [\u001b[39m\u001b[39m{\u001b[39;00mkey\u001b[39m}\u001b[39;00m\u001b[39m] are in the [\u001b[39m\u001b[39m{\u001b[39;00maxis_name\u001b[39m}\u001b[39;00m\u001b[39m]\u001b[39m\u001b[39m\"\u001b[39m)\n\u001b[0;32m   6132\u001b[0m not_found \u001b[39m=\u001b[39m \u001b[39mlist\u001b[39m(ensure_index(key)[missing_mask\u001b[39m.\u001b[39mnonzero()[\u001b[39m0\u001b[39m]]\u001b[39m.\u001b[39munique())\n\u001b[1;32m-> 6133\u001b[0m \u001b[39mraise\u001b[39;00m \u001b[39mKeyError\u001b[39;00m(\u001b[39mf\u001b[39m\u001b[39m\"\u001b[39m\u001b[39m{\u001b[39;00mnot_found\u001b[39m}\u001b[39;00m\u001b[39m not in index\u001b[39m\u001b[39m\"\u001b[39m)\n",
      "\u001b[1;31mKeyError\u001b[0m: \"['Fecha'] not in index\""
     ]
    }
   ],
   "source": [
    "df_aux = df2.query('RegCod==0 and GbaNom==\"GALLETAS\"')[[\"GbaInd\", \"Fecha\"]]\n",
    "df_aux"
   ]
  },
  {
   "cell_type": "code",
   "execution_count": null,
   "metadata": {},
   "outputs": [],
   "source": [
    "# Using plotly.express\n",
    "import plotly.express as px\n",
    "\n",
    "fig = px.line(df_aux, x='PerAno', y=\"Guatemala\")\n",
    "fig.show()"
   ]
  },
  {
   "cell_type": "code",
   "execution_count": 1,
   "metadata": {},
   "outputs": [
    {
     "name": "stderr",
     "output_type": "stream",
     "text": [
      "findfont: Font family 'xkcd' not found.\n",
      "findfont: Font family 'xkcd Script' not found.\n",
      "findfont: Font family 'Humor Sans' not found.\n",
      "findfont: Font family 'Comic Neue' not found.\n",
      "findfont: Font family 'xkcd' not found.\n",
      "findfont: Font family 'xkcd Script' not found.\n",
      "findfont: Font family 'Humor Sans' not found.\n",
      "findfont: Font family 'Comic Neue' not found.\n",
      "findfont: Font family 'xkcd' not found.\n",
      "findfont: Font family 'xkcd Script' not found.\n",
      "findfont: Font family 'Humor Sans' not found.\n",
      "findfont: Font family 'Comic Neue' not found.\n",
      "findfont: Font family 'xkcd' not found.\n",
      "findfont: Font family 'xkcd Script' not found.\n",
      "findfont: Font family 'Humor Sans' not found.\n",
      "findfont: Font family 'Comic Neue' not found.\n",
      "findfont: Font family 'xkcd' not found.\n",
      "findfont: Font family 'xkcd Script' not found.\n",
      "findfont: Font family 'Humor Sans' not found.\n",
      "findfont: Font family 'Comic Neue' not found.\n",
      "findfont: Font family 'xkcd' not found.\n",
      "findfont: Font family 'xkcd Script' not found.\n",
      "findfont: Font family 'Humor Sans' not found.\n",
      "findfont: Font family 'Comic Neue' not found.\n",
      "findfont: Font family 'xkcd' not found.\n",
      "findfont: Font family 'xkcd Script' not found.\n",
      "findfont: Font family 'Humor Sans' not found.\n",
      "findfont: Font family 'Comic Neue' not found.\n",
      "findfont: Font family 'xkcd' not found.\n",
      "findfont: Font family 'xkcd Script' not found.\n",
      "findfont: Font family 'Humor Sans' not found.\n",
      "findfont: Font family 'Comic Neue' not found.\n",
      "findfont: Font family 'xkcd' not found.\n",
      "findfont: Font family 'xkcd Script' not found.\n",
      "findfont: Font family 'Humor Sans' not found.\n",
      "findfont: Font family 'Comic Neue' not found.\n",
      "findfont: Font family 'xkcd' not found.\n",
      "findfont: Font family 'xkcd Script' not found.\n",
      "findfont: Font family 'Humor Sans' not found.\n",
      "findfont: Font family 'Comic Neue' not found.\n",
      "findfont: Font family 'xkcd' not found.\n",
      "findfont: Font family 'xkcd Script' not found.\n",
      "findfont: Font family 'Humor Sans' not found.\n",
      "findfont: Font family 'Comic Neue' not found.\n",
      "findfont: Font family 'xkcd' not found.\n",
      "findfont: Font family 'xkcd Script' not found.\n",
      "findfont: Font family 'Humor Sans' not found.\n",
      "findfont: Font family 'Comic Neue' not found.\n",
      "findfont: Font family 'xkcd' not found.\n",
      "findfont: Font family 'xkcd Script' not found.\n",
      "findfont: Font family 'Humor Sans' not found.\n",
      "findfont: Font family 'Comic Neue' not found.\n",
      "findfont: Font family 'xkcd' not found.\n",
      "findfont: Font family 'xkcd Script' not found.\n",
      "findfont: Font family 'Humor Sans' not found.\n",
      "findfont: Font family 'Comic Neue' not found.\n",
      "findfont: Font family 'xkcd' not found.\n",
      "findfont: Font family 'xkcd Script' not found.\n",
      "findfont: Font family 'Humor Sans' not found.\n",
      "findfont: Font family 'Comic Neue' not found.\n",
      "findfont: Font family 'xkcd' not found.\n",
      "findfont: Font family 'xkcd Script' not found.\n",
      "findfont: Font family 'Humor Sans' not found.\n",
      "findfont: Font family 'Comic Neue' not found.\n",
      "findfont: Font family 'xkcd' not found.\n",
      "findfont: Font family 'xkcd Script' not found.\n",
      "findfont: Font family 'Humor Sans' not found.\n",
      "findfont: Font family 'Comic Neue' not found.\n",
      "findfont: Font family 'xkcd' not found.\n",
      "findfont: Font family 'xkcd Script' not found.\n",
      "findfont: Font family 'Humor Sans' not found.\n",
      "findfont: Font family 'Comic Neue' not found.\n",
      "findfont: Font family 'xkcd' not found.\n",
      "findfont: Font family 'xkcd Script' not found.\n",
      "findfont: Font family 'Humor Sans' not found.\n",
      "findfont: Font family 'Comic Neue' not found.\n",
      "findfont: Font family 'xkcd' not found.\n",
      "findfont: Font family 'xkcd Script' not found.\n",
      "findfont: Font family 'Humor Sans' not found.\n",
      "findfont: Font family 'Comic Neue' not found.\n",
      "findfont: Font family 'xkcd' not found.\n",
      "findfont: Font family 'xkcd Script' not found.\n",
      "findfont: Font family 'Humor Sans' not found.\n",
      "findfont: Font family 'Comic Neue' not found.\n",
      "findfont: Font family 'xkcd' not found.\n",
      "findfont: Font family 'xkcd Script' not found.\n",
      "findfont: Font family 'Humor Sans' not found.\n",
      "findfont: Font family 'Comic Neue' not found.\n",
      "findfont: Font family 'xkcd' not found.\n",
      "findfont: Font family 'xkcd Script' not found.\n",
      "findfont: Font family 'Humor Sans' not found.\n",
      "findfont: Font family 'Comic Neue' not found.\n",
      "findfont: Font family 'xkcd' not found.\n",
      "findfont: Font family 'xkcd Script' not found.\n",
      "findfont: Font family 'Humor Sans' not found.\n",
      "findfont: Font family 'Comic Neue' not found.\n",
      "findfont: Font family 'xkcd' not found.\n",
      "findfont: Font family 'xkcd Script' not found.\n",
      "findfont: Font family 'Humor Sans' not found.\n",
      "findfont: Font family 'Comic Neue' not found.\n",
      "findfont: Font family 'xkcd' not found.\n",
      "findfont: Font family 'xkcd Script' not found.\n",
      "findfont: Font family 'Humor Sans' not found.\n",
      "findfont: Font family 'Comic Neue' not found.\n",
      "findfont: Font family 'xkcd' not found.\n",
      "findfont: Font family 'xkcd Script' not found.\n",
      "findfont: Font family 'Humor Sans' not found.\n",
      "findfont: Font family 'Comic Neue' not found.\n",
      "findfont: Font family 'xkcd' not found.\n",
      "findfont: Font family 'xkcd Script' not found.\n",
      "findfont: Font family 'Humor Sans' not found.\n",
      "findfont: Font family 'Comic Neue' not found.\n",
      "findfont: Font family 'xkcd' not found.\n",
      "findfont: Font family 'xkcd Script' not found.\n",
      "findfont: Font family 'Humor Sans' not found.\n",
      "findfont: Font family 'Comic Neue' not found.\n",
      "findfont: Font family 'xkcd' not found.\n",
      "findfont: Font family 'xkcd Script' not found.\n",
      "findfont: Font family 'Humor Sans' not found.\n",
      "findfont: Font family 'Comic Neue' not found.\n",
      "findfont: Font family 'xkcd' not found.\n",
      "findfont: Font family 'xkcd Script' not found.\n",
      "findfont: Font family 'Humor Sans' not found.\n",
      "findfont: Font family 'Comic Neue' not found.\n",
      "findfont: Font family 'xkcd' not found.\n",
      "findfont: Font family 'xkcd Script' not found.\n",
      "findfont: Font family 'Humor Sans' not found.\n",
      "findfont: Font family 'Comic Neue' not found.\n",
      "findfont: Font family 'xkcd' not found.\n",
      "findfont: Font family 'xkcd Script' not found.\n",
      "findfont: Font family 'Humor Sans' not found.\n",
      "findfont: Font family 'Comic Neue' not found.\n",
      "findfont: Font family 'xkcd' not found.\n",
      "findfont: Font family 'xkcd Script' not found.\n",
      "findfont: Font family 'Humor Sans' not found.\n",
      "findfont: Font family 'Comic Neue' not found.\n",
      "findfont: Font family 'xkcd' not found.\n",
      "findfont: Font family 'xkcd Script' not found.\n",
      "findfont: Font family 'Humor Sans' not found.\n",
      "findfont: Font family 'Comic Neue' not found.\n",
      "findfont: Font family 'xkcd' not found.\n",
      "findfont: Font family 'xkcd Script' not found.\n",
      "findfont: Font family 'Humor Sans' not found.\n",
      "findfont: Font family 'Comic Neue' not found.\n",
      "findfont: Font family 'xkcd' not found.\n",
      "findfont: Font family 'xkcd Script' not found.\n",
      "findfont: Font family 'Humor Sans' not found.\n",
      "findfont: Font family 'Comic Neue' not found.\n",
      "findfont: Font family 'xkcd' not found.\n",
      "findfont: Font family 'xkcd Script' not found.\n",
      "findfont: Font family 'Humor Sans' not found.\n",
      "findfont: Font family 'Comic Neue' not found.\n",
      "findfont: Font family 'xkcd' not found.\n",
      "findfont: Font family 'xkcd Script' not found.\n",
      "findfont: Font family 'Humor Sans' not found.\n",
      "findfont: Font family 'Comic Neue' not found.\n",
      "findfont: Font family 'xkcd' not found.\n",
      "findfont: Font family 'xkcd Script' not found.\n",
      "findfont: Font family 'Humor Sans' not found.\n",
      "findfont: Font family 'Comic Neue' not found.\n",
      "findfont: Font family 'xkcd' not found.\n",
      "findfont: Font family 'xkcd Script' not found.\n",
      "findfont: Font family 'Humor Sans' not found.\n",
      "findfont: Font family 'Comic Neue' not found.\n",
      "findfont: Font family 'xkcd' not found.\n",
      "findfont: Font family 'xkcd Script' not found.\n",
      "findfont: Font family 'Humor Sans' not found.\n",
      "findfont: Font family 'Comic Neue' not found.\n",
      "findfont: Font family 'xkcd' not found.\n",
      "findfont: Font family 'xkcd Script' not found.\n",
      "findfont: Font family 'Humor Sans' not found.\n",
      "findfont: Font family 'Comic Neue' not found.\n",
      "findfont: Font family 'xkcd' not found.\n",
      "findfont: Font family 'xkcd Script' not found.\n",
      "findfont: Font family 'Humor Sans' not found.\n",
      "findfont: Font family 'Comic Neue' not found.\n",
      "findfont: Font family 'xkcd' not found.\n",
      "findfont: Font family 'xkcd Script' not found.\n",
      "findfont: Font family 'Humor Sans' not found.\n",
      "findfont: Font family 'Comic Neue' not found.\n",
      "findfont: Font family 'xkcd' not found.\n",
      "findfont: Font family 'xkcd Script' not found.\n",
      "findfont: Font family 'Humor Sans' not found.\n",
      "findfont: Font family 'Comic Neue' not found.\n",
      "findfont: Font family 'xkcd' not found.\n",
      "findfont: Font family 'xkcd Script' not found.\n",
      "findfont: Font family 'Humor Sans' not found.\n",
      "findfont: Font family 'Comic Neue' not found.\n",
      "findfont: Font family 'xkcd' not found.\n",
      "findfont: Font family 'xkcd Script' not found.\n",
      "findfont: Font family 'Humor Sans' not found.\n",
      "findfont: Font family 'Comic Neue' not found.\n",
      "findfont: Font family 'xkcd' not found.\n",
      "findfont: Font family 'xkcd Script' not found.\n",
      "findfont: Font family 'Humor Sans' not found.\n",
      "findfont: Font family 'Comic Neue' not found.\n",
      "findfont: Font family 'xkcd' not found.\n",
      "findfont: Font family 'xkcd Script' not found.\n",
      "findfont: Font family 'Humor Sans' not found.\n",
      "findfont: Font family 'Comic Neue' not found.\n",
      "findfont: Font family 'xkcd' not found.\n",
      "findfont: Font family 'xkcd Script' not found.\n",
      "findfont: Font family 'Humor Sans' not found.\n",
      "findfont: Font family 'Comic Neue' not found.\n",
      "findfont: Font family 'xkcd' not found.\n",
      "findfont: Font family 'xkcd Script' not found.\n",
      "findfont: Font family 'Humor Sans' not found.\n",
      "findfont: Font family 'Comic Neue' not found.\n",
      "findfont: Font family 'xkcd' not found.\n",
      "findfont: Font family 'xkcd Script' not found.\n",
      "findfont: Font family 'Humor Sans' not found.\n",
      "findfont: Font family 'Comic Neue' not found.\n",
      "findfont: Font family 'xkcd' not found.\n",
      "findfont: Font family 'xkcd Script' not found.\n",
      "findfont: Font family 'Humor Sans' not found.\n",
      "findfont: Font family 'Comic Neue' not found.\n",
      "findfont: Font family 'xkcd' not found.\n",
      "findfont: Font family 'xkcd Script' not found.\n",
      "findfont: Font family 'Humor Sans' not found.\n",
      "findfont: Font family 'Comic Neue' not found.\n",
      "findfont: Font family 'xkcd' not found.\n",
      "findfont: Font family 'xkcd Script' not found.\n",
      "findfont: Font family 'Humor Sans' not found.\n",
      "findfont: Font family 'Comic Neue' not found.\n",
      "findfont: Font family 'xkcd' not found.\n",
      "findfont: Font family 'xkcd Script' not found.\n",
      "findfont: Font family 'Humor Sans' not found.\n",
      "findfont: Font family 'Comic Neue' not found.\n",
      "findfont: Font family 'xkcd' not found.\n",
      "findfont: Font family 'xkcd Script' not found.\n",
      "findfont: Font family 'Humor Sans' not found.\n",
      "findfont: Font family 'Comic Neue' not found.\n"
     ]
    },
    {
     "data": {
      "image/png": "[encoded data removed]",
      "text/plain": [
       "<Figure size 640x480 with 1 Axes>"
      ]
     },
     "metadata": {},
     "output_type": "display_data"
    }
   ],
   "source": [
    "import numpy as np\n",
    "import matplotlib.pyplot as plt\n",
    "# evenly distributed data between 0 and 1\n",
    "x = np.arange(0., 1., 0.1)\n",
    "# xkcd-styled plot\n",
    "plt.xkcd()\n",
    "# linear, quadratic, and cubic plots\n",
    "plt.plot(x, x, 'v-', x, x**2, 'x-', x, x**3, 'o-')\n",
    "plt.savefig(\"functions.pdf\")\n",
    "plt.show()"
   ]
  },
  {
   "cell_type": "code",
   "execution_count": null,
   "metadata": {},
   "outputs": [],
   "source": []
  }
 ],
 "metadata": {
  "kernelspec": {
   "display_name": ".venv",
   "language": "python",
   "name": "python3"
  },
  "language_info": {
   "codemirror_mode": {
    "name": "ipython",
    "version": 3
   },
   "file_extension": ".py",
   "mimetype": "text/x-python",
   "name": "python",
   "nbconvert_exporter": "python",
   "pygments_lexer": "ipython3",
   "version": "3.11.0"
  },
  "orig_nbformat": 4,
  "vscode": {
   "interpreter": {
    "hash": "1e6c975db96501c9d1db333150767bb235d76d5af5721eb007083c783e481500"
   }
  }
 },
 "nbformat": 4,
 "nbformat_minor": 2
}
